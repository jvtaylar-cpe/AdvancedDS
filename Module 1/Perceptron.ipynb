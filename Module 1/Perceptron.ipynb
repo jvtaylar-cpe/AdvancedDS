{
  "nbformat": 4,
  "nbformat_minor": 0,
  "metadata": {
    "colab": {
      "provenance": []
    },
    "kernelspec": {
      "name": "python3",
      "display_name": "Python 3"
    },
    "language_info": {
      "name": "python"
    },
    "gpuClass": "standard"
  },
  "cells": [
    {
      "cell_type": "markdown",
      "source": [
        "# Perceptron\n",
        "<hr>\n",
        "\n",
        "**Objectives:**\n",
        "<br>\n",
        "\n",
        "- To illustrate simple perceptron model\n",
        "- To run a simple linear perceptron model\n",
        "- To run a perceptron using a real world dataset\n",
        "\n",
        "<br>\n",
        "<hr>\n"
      ],
      "metadata": {
        "id": "5FaPe_MB7pJr"
      }
    },
    {
      "cell_type": "code",
      "source": [
        "# simple perceptron\n",
        "# x1 = weather, x2 = company, x3 = proximity\n",
        "\n",
        "w1 = 4\n",
        "w2 = 2\n",
        "w3 = 2\n",
        "\n",
        "x1 = float(input(\"enter input for x1: \"))\n",
        "x2 = float(input(\"enter input for x2: \"))\n",
        "x3 = float(input(\"enter input for x3: \"))\n",
        "b = -5\n",
        "\n",
        "z = x1*w1 + x2*w2 + x3*w3 + b\n",
        "print(z)\n",
        "if z <= 0:\n",
        "  print(\"No, I will not go to the movie\")\n",
        "else:\n",
        "  print(\"Yes, I will go to the movie\")"
      ],
      "metadata": {
        "colab": {
          "base_uri": "https://localhost:8080/"
        },
        "id": "UxT8Y_76ZSEV",
        "outputId": "1bf971d8-0c19-4a2e-f008-d6df4a5c8a0f"
      },
      "execution_count": null,
      "outputs": [
        {
          "output_type": "stream",
          "name": "stdout",
          "text": [
            "enter input for x1: 0.75\n",
            "enter input for x2: 0.75\n",
            "enter input for x3: 0.5\n",
            "0.5\n",
            "Yes, I will not go to the movie\n"
          ]
        }
      ]
    },
    {
      "cell_type": "code",
      "source": [
        "# perceptron as linear classifier\n",
        "\n",
        "w1 = -2\n",
        "w2 = -2\n",
        "\n",
        "x1 = float(input(\"enter input for x1: \"))\n",
        "x2 = float(input(\"enter input for x2: \"))\n",
        "z = -2*x1 -2*x2 + 3\n",
        "print(z)\n",
        "if z > 0:\n",
        "  print(1)\n",
        "else:\n",
        "  print(0)\n"
      ],
      "metadata": {
        "colab": {
          "base_uri": "https://localhost:8080/"
        },
        "id": "ej3Ig94kgwt6",
        "outputId": "c9eeba2a-eb5b-4804-bf80-db02beac00f1"
      },
      "execution_count": null,
      "outputs": [
        {
          "output_type": "stream",
          "name": "stdout",
          "text": [
            "enter input for x1: 0\n",
            "enter input for x2: 0\n",
            "3.0\n",
            "1\n"
          ]
        }
      ]
    },
    {
      "cell_type": "markdown",
      "source": [
        "# Perceptron Algorithm\n",
        "\n",
        "Perceptron receives input signals from examples of training data that we weight and combined in a linear equation called the activation.\n",
        "~~~\n",
        "activation = sum(weight_i * x_i) + bias\n",
        "~~~\n",
        "The activation is then transformed into an output value or prediction using a transfer function, such as the step transfer function.\n",
        "```\n",
        "prediction = 1.0 if activation > 0.0 else 0.0\n",
        "```\n",
        "\n",
        "In this way, the Perceptron is a classification algorithm for problems with two classes (0 and 1) where a linear equation (like or hyperplane) can be used to separate the two classes.\n",
        "\n",
        "It is closely related to linear regression and logistic regression that make predictions in a similar way (e.g. a weighted sum of inputs).\n",
        "\n",
        "The weights of the Perceptron algorithm must be estimated from your training data using stochastic gradient descent."
      ],
      "metadata": {
        "id": "Ibc5y2cjTjx7"
      }
    },
    {
      "cell_type": "markdown",
      "source": [
        "# Stochastic Gradient Descent\n",
        "Gradient Descent is the process of minimizing a function by following the gradients of the cost function.\n",
        "\n",
        "This involves knowing the form of the cost as well as the derivative so that from a given point you know the gradient and can move in that direction, e.g. downhill towards the minimum value.\n",
        "\n",
        "In machine learning, we can use a technique that evaluates and updates the weights every iteration called stochastic gradient descent to minimize the error of a model on our training data.\n",
        "\n",
        "The way this optimization algorithm works is that each training instance is shown to the model one at a time. The model makes a prediction for a training instance, the error is calculated and the model is updated in order to reduce the error for the next prediction.\n",
        "\n",
        "This procedure can be used to find the set of weights in a model that result in the smallest error for the model on the training data.\n",
        "\n",
        "For the Perceptron algorithm, each iteration the weights (w) are updated using the equation:\n",
        "```\n",
        "w = w + learning_rate * (expected - predicted) * x\n",
        "```\n",
        "- w - weight being optimized\n",
        "- learning_rate - learning rate you must configure (e.g. 0.01)\n",
        "- (expected – predicted) - prediction error for the model on the training data attributed to the weight\n",
        "- x - input value"
      ],
      "metadata": {
        "id": "iwobL9_iUF6a"
      }
    },
    {
      "cell_type": "markdown",
      "source": [
        "### Making Predictions\n",
        "\n",
        "Below is a function named predict() that predicts an output value for a row given a set of weights.\n",
        "\n",
        "The first weight is always the bias as it is standalone and not responsible for a specific input value."
      ],
      "metadata": {
        "id": "OKUvd-DgRZoN"
      }
    },
    {
      "cell_type": "code",
      "source": [
        "# Make a prediction with weights\n",
        "def predict(row, weights):\n",
        "\tactivation = weights[0]\n",
        "\tfor i in range(len(row)-1):\n",
        "\t\tactivation += weights[i + 1] * row[i]\n",
        "\treturn 1.0 if activation >= 0.0 else 0.0\n",
        "\n",
        "# test predictions\n",
        "dataset = [[2.7810836,2.550537003,0],\n",
        "\t[1.465489372,2.362125076,0],\n",
        "\t[3.396561688,4.400293529,0],\n",
        "\t[1.38807019,1.850220317,0],\n",
        "\t[3.06407232,3.005305973,0],\n",
        "\t[7.627531214,2.759262235,1],\n",
        "\t[5.332441248,2.088626775,1],\n",
        "\t[6.922596716,1.77106367,1],\n",
        "\t[8.675418651,-0.242068655,1],\n",
        "\t[7.673756466,3.508563011,1]]\n",
        "weights = [-0.1, 0.20653640140000007, -0.23418117710000003]\n",
        "for row in dataset:\n",
        "\tprediction = predict(row, weights)\n",
        "\tprint(\"Expected=%d, Predicted=%d\" % (row[-1], prediction))"
      ],
      "metadata": {
        "colab": {
          "base_uri": "https://localhost:8080/"
        },
        "id": "LucBp1_6RRcQ",
        "outputId": "37b4c735-82da-4856-e23d-d75d53cf16f2"
      },
      "execution_count": null,
      "outputs": [
        {
          "output_type": "stream",
          "name": "stdout",
          "text": [
            "Expected=0, Predicted=0\n",
            "Expected=0, Predicted=0\n",
            "Expected=0, Predicted=0\n",
            "Expected=0, Predicted=0\n",
            "Expected=0, Predicted=0\n",
            "Expected=1, Predicted=1\n",
            "Expected=1, Predicted=1\n",
            "Expected=1, Predicted=1\n",
            "Expected=1, Predicted=1\n",
            "Expected=1, Predicted=1\n"
          ]
        }
      ]
    },
    {
      "cell_type": "markdown",
      "source": [
        "# Training Network Weights\n",
        "We can estimate the weight values for our training data using stochastic gradient descent.\n",
        "\n",
        "Stochastic gradient descent requires two parameters:\n",
        "\n",
        "- **Learning Rate**: Used to limit the amount each weight is corrected each time it is updated.\n",
        "- **Epochs**: The number of times to run through the training data while updating the weight."
      ],
      "metadata": {
        "id": "-cwJAIisVbTR"
      }
    },
    {
      "cell_type": "code",
      "source": [
        "# Make a prediction with weights\n",
        "def predict(row, weights):\n",
        "\tactivation = weights[0]\n",
        "\tfor i in range(len(row)-1):\n",
        "\t\tactivation += weights[i + 1] * row[i]\n",
        "\treturn 1.0 if activation >= 0.0 else 0.0\n",
        "\n",
        "# Estimate Perceptron weights using stochastic gradient descent\n",
        "def train_weights(train, l_rate, n_epoch):\n",
        "\tweights = [0.0 for i in range(len(train[0]))]\n",
        "\tfor epoch in range(n_epoch):\n",
        "\t\tsum_error = 0.0\n",
        "\t\tfor row in train:\n",
        "\t\t\tprediction = predict(row, weights)\n",
        "\t\t\terror = row[-1] - prediction\n",
        "\t\t\tsum_error += error**2\n",
        "\t\t\tweights[0] = weights[0] + l_rate * error\n",
        "\t\t\tfor i in range(len(row)-1):\n",
        "\t\t\t\tweights[i + 1] = weights[i + 1] + l_rate * error * row[i]\n",
        "\t\tprint('>epoch=%d, lrate=%.3f, error=%.3f' % (epoch, l_rate, sum_error))\n",
        "\treturn weights\n",
        "\n",
        "# Calculate weights\n",
        "dataset = [[2.7810836,2.550537003,0],\n",
        "\t[1.465489372,2.362125076,0],\n",
        "\t[3.396561688,4.400293529,0],\n",
        "\t[1.38807019,1.850220317,0],\n",
        "\t[3.06407232,3.005305973,0],\n",
        "\t[7.627531214,2.759262235,1],\n",
        "\t[5.332441248,2.088626775,1],\n",
        "\t[6.922596716,1.77106367,1],\n",
        "\t[8.675418651,-0.242068655,1],\n",
        "\t[7.673756466,3.508563011,1]]\n",
        "l_rate = 0.0001\n",
        "n_epoch = 5\n",
        "weights = train_weights(dataset, l_rate, n_epoch)\n",
        "print(weights)"
      ],
      "metadata": {
        "colab": {
          "base_uri": "https://localhost:8080/"
        },
        "id": "ezuO2V-eSFsz",
        "outputId": "209b7d6b-6e75-4a98-bd16-1764ba456945"
      },
      "execution_count": null,
      "outputs": [
        {
          "output_type": "stream",
          "name": "stdout",
          "text": [
            ">epoch=0, lrate=0.000, error=2.000\n",
            ">epoch=1, lrate=0.000, error=1.000\n",
            ">epoch=2, lrate=0.000, error=0.000\n",
            ">epoch=3, lrate=0.000, error=0.000\n",
            ">epoch=4, lrate=0.000, error=0.000\n",
            "[-0.0001, 0.00020653640140000005, -0.0002341811771]\n"
          ]
        }
      ]
    },
    {
      "cell_type": "code",
      "source": [
        "# Perceptron Algorithm on the Sonar Dataset - UCI Machine Learning Library\n",
        "from random import seed\n",
        "from random import randrange\n",
        "from csv import reader\n",
        "\n",
        "# Load a CSV file\n",
        "def load_csv(filename):\n",
        "\tdataset = list()\n",
        "\twith open(filename, 'r') as file:\n",
        "\t\tcsv_reader = reader(file)\n",
        "\t\tfor row in csv_reader:\n",
        "\t\t\tif not row:\n",
        "\t\t\t\tcontinue\n",
        "\t\t\tdataset.append(row)\n",
        "\treturn dataset\n",
        "\n",
        "# Convert string column to float\n",
        "def str_column_to_float(dataset, column):\n",
        "\tfor row in dataset:\n",
        "\t\trow[column] = float(row[column].strip())\n",
        "\n",
        "# Convert string column to integer\n",
        "def str_column_to_int(dataset, column):\n",
        "\tclass_values = [row[column] for row in dataset]\n",
        "\tunique = set(class_values)\n",
        "\tlookup = dict()\n",
        "\tfor i, value in enumerate(unique):\n",
        "\t\tlookup[value] = i\n",
        "\tfor row in dataset:\n",
        "\t\trow[column] = lookup[row[column]]\n",
        "\treturn lookup\n",
        "\n",
        "# Split a dataset into k folds\n",
        "def cross_validation_split(dataset, n_folds):\n",
        "\tdataset_split = list()\n",
        "\tdataset_copy = list(dataset)\n",
        "\tfold_size = int(len(dataset) / n_folds)\n",
        "\tfor i in range(n_folds):\n",
        "\t\tfold = list()\n",
        "\t\twhile len(fold) < fold_size:\n",
        "\t\t\tindex = randrange(len(dataset_copy))\n",
        "\t\t\tfold.append(dataset_copy.pop(index))\n",
        "\t\tdataset_split.append(fold)\n",
        "\treturn dataset_split\n",
        "\n",
        "# Calculate accuracy percentage\n",
        "def accuracy_metric(actual, predicted):\n",
        "\tcorrect = 0\n",
        "\tfor i in range(len(actual)):\n",
        "\t\tif actual[i] == predicted[i]:\n",
        "\t\t\tcorrect += 1\n",
        "\treturn correct / float(len(actual)) * 100.0\n",
        "\n",
        "# Evaluate an algorithm using a cross validation split\n",
        "def evaluate_algorithm(dataset, algorithm, n_folds, *args):\n",
        "\tfolds = cross_validation_split(dataset, n_folds)\n",
        "\tscores = list()\n",
        "\tfor fold in folds:\n",
        "\t\ttrain_set = list(folds)\n",
        "\t\ttrain_set.remove(fold)\n",
        "\t\ttrain_set = sum(train_set, [])\n",
        "\t\ttest_set = list()\n",
        "\t\tfor row in fold:\n",
        "\t\t\trow_copy = list(row)\n",
        "\t\t\ttest_set.append(row_copy)\n",
        "\t\t\trow_copy[-1] = None\n",
        "\t\tpredicted = algorithm(train_set, test_set, *args)\n",
        "\t\tactual = [row[-1] for row in fold]\n",
        "\t\taccuracy = accuracy_metric(actual, predicted)\n",
        "\t\tscores.append(accuracy)\n",
        "\treturn scores\n",
        "\n",
        "# Make a prediction with weights\n",
        "def predict(row, weights):\n",
        "\tactivation = weights[0]\n",
        "\tfor i in range(len(row)-1):\n",
        "\t\tactivation += weights[i + 1] * row[i]\n",
        "\treturn 1.0 if activation >= 0.0 else 0.0\n",
        "\n",
        "# Estimate Perceptron weights using stochastic gradient descent\n",
        "def train_weights(train, l_rate, n_epoch):\n",
        "\tweights = [0.0 for i in range(len(train[0]))]\n",
        "\tfor epoch in range(n_epoch):\n",
        "\t\tfor row in train:\n",
        "\t\t\tprediction = predict(row, weights)\n",
        "\t\t\terror = row[-1] - prediction\n",
        "\t\t\tweights[0] = weights[0] + l_rate * error\n",
        "\t\t\tfor i in range(len(row)-1):\n",
        "\t\t\t\tweights[i + 1] = weights[i + 1] + l_rate * error * row[i]\n",
        "\treturn weights\n",
        "\n",
        "# Perceptron Algorithm With Stochastic Gradient Descent\n",
        "def perceptron(train, test, l_rate, n_epoch):\n",
        "\tpredictions = list()\n",
        "\tweights = train_weights(train, l_rate, n_epoch)\n",
        "\tfor row in test:\n",
        "\t\tprediction = predict(row, weights)\n",
        "\t\tpredictions.append(prediction)\n",
        "\treturn(predictions)\n",
        "\n",
        "# Test the Perceptron algorithm on the sonar dataset\n",
        "seed(1)\n",
        "# load and prepare data\n",
        "filename = '/content/drive/MyDrive/COURSES/CPE313 - ADVANCED ML AND DL/sonar.all-data'\n",
        "dataset = load_csv(filename)\n",
        "for i in range(len(dataset[0])-1):\n",
        "\tstr_column_to_float(dataset, i)\n",
        "# convert string class to integers\n",
        "str_column_to_int(dataset, len(dataset[0])-1)\n",
        "# evaluate algorithm\n",
        "n_folds = 3\n",
        "l_rate = 0.01\n",
        "n_epoch = 500\n",
        "scores = evaluate_algorithm(dataset, perceptron, n_folds, l_rate, n_epoch)\n",
        "print('Scores: %s' % scores)\n",
        "print('Mean Accuracy: %.3f%%' % (sum(scores)/float(len(scores))))"
      ],
      "metadata": {
        "colab": {
          "base_uri": "https://localhost:8080/"
        },
        "id": "bIMwUAQC6en6",
        "outputId": "ecb9a9b4-59fc-4cae-e528-6bcc91241c37"
      },
      "execution_count": null,
      "outputs": [
        {
          "output_type": "stream",
          "name": "stdout",
          "text": [
            "Scores: [76.81159420289855, 69.56521739130434, 72.46376811594203]\n",
            "Mean Accuracy: 72.947%\n"
          ]
        }
      ]
    },
    {
      "cell_type": "code",
      "source": [
        "from google.colab import drive\n",
        "drive.mount('/content/drive')"
      ],
      "metadata": {
        "id": "4Oq9prT7y-lm"
      },
      "execution_count": null,
      "outputs": []
    },
    {
      "cell_type": "code",
      "execution_count": null,
      "metadata": {
        "colab": {
          "base_uri": "https://localhost:8080/"
        },
        "id": "L16bvNaU7mDt",
        "outputId": "ed80beab-e5a8-4299-903b-d6225cf7fecf"
      },
      "outputs": [
        {
          "output_type": "execute_result",
          "data": {
            "text/plain": [
              "array([[5.1, 3.5, 0. ],\n",
              "       [4.9, 3. , 0. ],\n",
              "       [4.7, 3.2, 0. ],\n",
              "       [4.9, 3. , 0. ],\n",
              "       [4.6, 3.1, 0. ],\n",
              "       [4.6, 3.1, 0. ],\n",
              "       [4.7, 3.2, 0. ],\n",
              "       [4.6, 3.4, 0. ],\n",
              "       [5.4, 3.9, 0. ],\n",
              "       [5. , 3.6, 0. ],\n",
              "       [4.7, 3.2, 0. ],\n",
              "       [4.7, 3.2, 0. ],\n",
              "       [5.1, 3.5, 0. ],\n",
              "       [4.4, 2.9, 0. ],\n",
              "       [5. , 3.4, 0. ],\n",
              "       [5.4, 3.7, 0. ],\n",
              "       [4.8, 3.4, 0. ],\n",
              "       [4.8, 3. , 0. ],\n",
              "       [5.8, 4. , 0. ],\n",
              "       [4.8, 3.4, 0. ],\n",
              "       [4.4, 2.9, 0. ],\n",
              "       [5.1, 3.5, 0. ],\n",
              "       [5.8, 4. , 0. ],\n",
              "       [4.4, 2.9, 0. ],\n",
              "       [5.5, 2.3, 1. ],\n",
              "       [5.4, 3.9, 0. ],\n",
              "       [5.7, 3.8, 0. ],\n",
              "       [5.4, 3.9, 0. ],\n",
              "       [5.4, 3.9, 0. ],\n",
              "       [5.4, 3.9, 0. ],\n",
              "       [5.7, 4.4, 0. ],\n",
              "       [4.8, 3.4, 0. ],\n",
              "       [5.7, 2.8, 1. ],\n",
              "       [4.7, 3.2, 0. ],\n",
              "       [5.4, 3.7, 0. ],\n",
              "       [4.9, 3.1, 0. ],\n",
              "       [5.2, 2.7, 1. ],\n",
              "       [4.8, 3.4, 0. ],\n",
              "       [5.7, 2.8, 1. ],\n",
              "       [4.8, 3. , 0. ],\n",
              "       [6.5, 2.8, 1. ],\n",
              "       [4.8, 3.4, 0. ],\n",
              "       [5.2, 2.7, 1. ],\n",
              "       [5.1, 3.5, 0. ],\n",
              "       [6.6, 2.9, 1. ],\n",
              "       [4.6, 3.4, 0. ],\n",
              "       [7. , 3.2, 1. ],\n",
              "       [6.4, 3.2, 1. ],\n",
              "       [4.3, 3. , 0. ],\n",
              "       [5.4, 3.9, 0. ],\n",
              "       [5.6, 2.5, 1. ],\n",
              "       [4.3, 3. , 0. ],\n",
              "       [5.8, 4. , 0. ],\n",
              "       [4.6, 3.4, 0. ],\n",
              "       [6.1, 2.8, 1. ],\n",
              "       [5.8, 2.7, 1. ],\n",
              "       [5.1, 3.3, 0. ],\n",
              "       [5. , 3.6, 0. ],\n",
              "       [5.6, 2.9, 1. ],\n",
              "       [4.8, 3.1, 0. ],\n",
              "       [5. , 3.4, 0. ],\n",
              "       [5.8, 2.7, 1. ],\n",
              "       [6.9, 3.1, 1. ],\n",
              "       [6.7, 3.1, 1. ],\n",
              "       [6.4, 3.2, 1. ],\n",
              "       [5.8, 4. , 0. ],\n",
              "       [4.9, 3. , 0. ],\n",
              "       [6.3, 3.3, 1. ],\n",
              "       [5.4, 3.4, 0. ],\n",
              "       [4.8, 3. , 0. ],\n",
              "       [5.6, 3. , 1. ],\n",
              "       [5.1, 3.3, 0. ],\n",
              "       [5.9, 3.2, 1. ],\n",
              "       [5.1, 3.8, 0. ],\n",
              "       [4.3, 3. , 0. ],\n",
              "       [5.1, 3.8, 0. ],\n",
              "       [5.2, 2.7, 1. ],\n",
              "       [5. , 3.2, 0. ],\n",
              "       [5.2, 3.5, 0. ],\n",
              "       [5. , 3.6, 0. ],\n",
              "       [5.6, 3. , 1. ],\n",
              "       [5.5, 4.2, 0. ],\n",
              "       [5. , 3.5, 0. ],\n",
              "       [6.1, 2.8, 1. ],\n",
              "       [6.5, 2.8, 1. ],\n",
              "       [5.1, 3.5, 0. ],\n",
              "       [6. , 2.2, 1. ],\n",
              "       [5.2, 3.4, 0. ],\n",
              "       [4.9, 3.1, 0. ],\n",
              "       [4.4, 3.2, 0. ],\n",
              "       [6.3, 3.3, 1. ],\n",
              "       [4.6, 3.2, 0. ],\n",
              "       [4.6, 3.1, 0. ],\n",
              "       [5.1, 3.5, 0. ],\n",
              "       [5.1, 3.8, 0. ],\n",
              "       [4.9, 3. , 0. ],\n",
              "       [5. , 2. , 1. ],\n",
              "       [5.2, 2.7, 1. ]])"
            ]
          },
          "metadata": {},
          "execution_count": 18
        }
      ],
      "source": [
        "import numpy as np\n",
        "\n",
        "# each row contains Sepal length in cm, Sepal width in nm and type (0|1)\n",
        "# 0: Iris-setosa | 1: Iris-versicolor\n",
        "data = np.loadtxt('/content/drive/MyDrive/Colab Notebooks/DATA/iris-data.csv', delimiter=',')\n",
        "data"
      ]
    },
    {
      "cell_type": "markdown",
      "source": [
        "### VISUALIZE THE DATA\n",
        "It is a good idea to visualize the data so we can confirm that the data is linearly separable."
      ],
      "metadata": {
        "id": "c5Jwhy3XMhtR"
      }
    },
    {
      "cell_type": "code",
      "source": [
        "%matplotlib inline\n",
        "import matplotlib.pyplot as plt\n",
        "\n",
        "plt.grid()\n",
        "\n",
        "for i in range(len(data)) :\n",
        "    point = data[i]\n",
        "    if point[2] == 0 :\n",
        "        color = 'r'  # setosas will appear in blue\n",
        "    else:\n",
        "        color = 'b'  # versicolor will appear in red\n",
        "\n",
        "    plt.scatter(point[0], point[1], c=color);"
      ],
      "metadata": {
        "colab": {
          "base_uri": "https://localhost:8080/",
          "height": 268
        },
        "id": "5NGUjzqdMcvf",
        "outputId": "852c0b21-0ed1-4a81-b854-1de657d431c6"
      },
      "execution_count": null,
      "outputs": [
        {
          "output_type": "display_data",
          "data": {
            "text/plain": [
              "<Figure size 432x288 with 1 Axes>"
            ],
            "image/png": "[encoded data removed]"
          },
          "metadata": {
            "needs_background": "light"
          }
        }
      ]
    },
    {
      "cell_type": "code",
      "source": [
        "# DEFINE TRAINING AND TESTING SETS\n",
        "from sklearn.model_selection import train_test_split\n",
        "\n",
        "target = data[:, -1]\n",
        "data = data[:, :-1]\n",
        "\n",
        "X_train, X_test, y_train, y_test = train_test_split(\n",
        "    data, target, test_size=0.30, random_state=42)\n",
        "\n",
        "X_train.shape"
      ],
      "metadata": {
        "colab": {
          "base_uri": "https://localhost:8080/"
        },
        "id": "VsB6e0kGMs0G",
        "outputId": "cec28dad-3cba-4ed7-adbe-24936966c199"
      },
      "execution_count": null,
      "outputs": [
        {
          "output_type": "execute_result",
          "data": {
            "text/plain": [
              "(68, 2)"
            ]
          },
          "metadata": {},
          "execution_count": 20
        }
      ]
    },
    {
      "cell_type": "code",
      "source": [
        "# TRAIN THE MODEL\n",
        "from sklearn.metrics import mean_squared_error\n",
        "\n",
        "np.random.seed(93)\n",
        "\n",
        "class Perceptron(object):\n",
        "    def __init__(self, learning=0.01, n_epochs=20):\n",
        "        self.learning = learning\n",
        "        self.n_epochs = n_epochs\n",
        "\n",
        "    def predict(self, X):\n",
        "        pred = np.dot(X, self.w_) + self.b_\n",
        "        return 1.0 if pred >= 0.0 else 0.0\n",
        "\n",
        "    def fit(self, X, y):\n",
        "        # iniciate the weights and bias\n",
        "        self.w_ = np.random.uniform(0, 1, X.shape[1])\n",
        "        self.b_ = np.random.uniform(0, 1, 1)\n",
        "\n",
        "        self.costList_ = []\n",
        "\n",
        "        for ep in range(self.n_epochs):\n",
        "            cost_epoch = 0\n",
        "            for xi, target in zip(X, y):\n",
        "                # cost function\n",
        "                pred = self.predict(xi)\n",
        "                cost = np.square(target - pred)\n",
        "                cost_epoch += float(cost/len(X))  # MSE\n",
        "\n",
        "                # update weights and bias\n",
        "                update = self.learning * (target - pred)\n",
        "                self.w_ += update * xi\n",
        "                self.b_ += update\n",
        "\n",
        "            # store MSE through every epoch iteration\n",
        "            self.costList_.append(cost_epoch)\n",
        "\n",
        "            # print model improvements\n",
        "            print(\"Epoch: {:04}\\tLoss: {:06.5f}\".format((ep+1), cost_epoch), end='')\n",
        "            print(\"\\t\\tRegression: {:.2f}(X1) + {:.2f}(X2) + {:.2f}\".format(self.w_[0],\n",
        "                                                                      self.w_[1],\n",
        "                                                                      float(self.b_)))\n",
        "        return self"
      ],
      "metadata": {
        "id": "cZ2eDk5YM5v8"
      },
      "execution_count": null,
      "outputs": []
    },
    {
      "cell_type": "code",
      "source": [
        "# EXECUTE THE MODEL\n",
        "clf = Perceptron()\n",
        "clf.fit(X_train, y_train)"
      ],
      "metadata": {
        "colab": {
          "base_uri": "https://localhost:8080/"
        },
        "id": "39kX0X8pM87V",
        "outputId": "6fe581db-38c2-49d1-a7af-56c6785df9d9"
      },
      "execution_count": null,
      "outputs": [
        {
          "output_type": "stream",
          "name": "stdout",
          "text": [
            "Epoch: 0001\tLoss: 0.58824\t\tRegression: -0.08(X1) + 0.03(X2) + 0.15\n",
            "Epoch: 0002\tLoss: 0.39706\t\tRegression: -0.02(X1) + -0.09(X2) + 0.14\n",
            "Epoch: 0003\tLoss: 0.32353\t\tRegression: 0.06(X1) + -0.15(X2) + 0.14\n",
            "Epoch: 0004\tLoss: 0.02941\t\tRegression: 0.06(X1) + -0.15(X2) + 0.14\n",
            "Epoch: 0005\tLoss: 0.00000\t\tRegression: 0.06(X1) + -0.15(X2) + 0.14\n",
            "Epoch: 0006\tLoss: 0.00000\t\tRegression: 0.06(X1) + -0.15(X2) + 0.14\n",
            "Epoch: 0007\tLoss: 0.00000\t\tRegression: 0.06(X1) + -0.15(X2) + 0.14\n",
            "Epoch: 0008\tLoss: 0.00000\t\tRegression: 0.06(X1) + -0.15(X2) + 0.14\n",
            "Epoch: 0009\tLoss: 0.00000\t\tRegression: 0.06(X1) + -0.15(X2) + 0.14\n",
            "Epoch: 0010\tLoss: 0.00000\t\tRegression: 0.06(X1) + -0.15(X2) + 0.14\n",
            "Epoch: 0011\tLoss: 0.00000\t\tRegression: 0.06(X1) + -0.15(X2) + 0.14\n",
            "Epoch: 0012\tLoss: 0.00000\t\tRegression: 0.06(X1) + -0.15(X2) + 0.14\n",
            "Epoch: 0013\tLoss: 0.00000\t\tRegression: 0.06(X1) + -0.15(X2) + 0.14\n",
            "Epoch: 0014\tLoss: 0.00000\t\tRegression: 0.06(X1) + -0.15(X2) + 0.14\n",
            "Epoch: 0015\tLoss: 0.00000\t\tRegression: 0.06(X1) + -0.15(X2) + 0.14\n",
            "Epoch: 0016\tLoss: 0.00000\t\tRegression: 0.06(X1) + -0.15(X2) + 0.14\n",
            "Epoch: 0017\tLoss: 0.00000\t\tRegression: 0.06(X1) + -0.15(X2) + 0.14\n",
            "Epoch: 0018\tLoss: 0.00000\t\tRegression: 0.06(X1) + -0.15(X2) + 0.14\n",
            "Epoch: 0019\tLoss: 0.00000\t\tRegression: 0.06(X1) + -0.15(X2) + 0.14\n",
            "Epoch: 0020\tLoss: 0.00000\t\tRegression: 0.06(X1) + -0.15(X2) + 0.14\n"
          ]
        },
        {
          "output_type": "execute_result",
          "data": {
            "text/plain": [
              "<__main__.Perceptron at 0x7f8061fb3910>"
            ]
          },
          "metadata": {},
          "execution_count": 22
        }
      ]
    },
    {
      "cell_type": "code",
      "source": [
        "# VISUALIZE MODEL IMPROVEMENT\n",
        "plt.plot(clf.costList_)\n",
        "plt.xlabel('epochs')\n",
        "plt.ylabel('MSE');\n",
        "plt.show()"
      ],
      "metadata": {
        "colab": {
          "base_uri": "https://localhost:8080/",
          "height": 279
        },
        "id": "OSjxiRekNDg5",
        "outputId": "ea0e5675-f8ed-4d03-e758-4c0f8fb63020"
      },
      "execution_count": null,
      "outputs": [
        {
          "output_type": "display_data",
          "data": {
            "text/plain": [
              "<Figure size 432x288 with 1 Axes>"
            ],
            "image/png": "[encoded data removed]"
          },
          "metadata": {
            "needs_background": "light"
          }
        }
      ]
    },
    {
      "cell_type": "code",
      "source": [
        "# VISUALIZE CONFUSION MATRIX\n",
        "import seaborn as sns\n",
        "from sklearn.metrics import confusion_matrix\n",
        "\n",
        "# this will make the plot better-looking\n",
        "cmap = cmap=plt.cm.get_cmap('Reds', 10)\n",
        "\n",
        "# create a confusion matrix for training set\n",
        "print('computing confusion matrix on training sets..')\n",
        "matrix_labels = ['0:setosa', '1:versicolor']\n",
        "train_predictions = [clf.predict(item) for item in X_train]\n",
        "mat = confusion_matrix(y_train, train_predictions)\n",
        "sns.heatmap(mat.T, square=True, annot=True, fmt='d',\n",
        "            cbar=True, xticklabels=matrix_labels,\n",
        "            yticklabels=matrix_labels, cmap=cmap)\n",
        "\n",
        "plt.xlabel('Train Label set')\n",
        "plt.ylabel('Predictions')\n",
        "plt.show()\n",
        "\n",
        "# create a confusion matrix for testing set\n",
        "print('computing confusion matrix on testing sets..')\n",
        "matrix_labels = ['0:setosa', '1:versicolor']\n",
        "test_predictions = [clf.predict(item) for item in X_test]\n",
        "mat = confusion_matrix(y_test, test_predictions)\n",
        "sns.heatmap(mat.T, square=True, annot=True, fmt='d',\n",
        "            cbar=True, xticklabels=matrix_labels,\n",
        "            yticklabels=matrix_labels, cmap=cmap)\n",
        "\n",
        "plt.xlabel('Test Label set')\n",
        "plt.ylabel('Predictions')\n",
        "plt.show()"
      ],
      "metadata": {
        "colab": {
          "base_uri": "https://localhost:8080/",
          "height": 584
        },
        "id": "bMPcTFscNIdu",
        "outputId": "317aeecc-0595-425f-8c3d-59c2c12921c9"
      },
      "execution_count": null,
      "outputs": [
        {
          "output_type": "stream",
          "name": "stdout",
          "text": [
            "computing confusion matrix on training sets..\n"
          ]
        },
        {
          "output_type": "display_data",
          "data": {
            "text/plain": [
              "<Figure size 432x288 with 2 Axes>"
            ],
            "image/png": "[encoded data removed]"
          },
          "metadata": {
            "needs_background": "light"
          }
        },
        {
          "output_type": "stream",
          "name": "stdout",
          "text": [
            "computing confusion matrix on testing sets..\n"
          ]
        },
        {
          "output_type": "display_data",
          "data": {
            "text/plain": [
              "<Figure size 432x288 with 2 Axes>"
            ],
            "image/png": "[encoded data removed]"
          },
          "metadata": {
            "needs_background": "light"
          }
        }
      ]
    },
    {
      "cell_type": "code",
      "source": [
        "# COMPARING EVERY SINGLE RESULT\n",
        "for i, point in enumerate(data):\n",
        "    # Plot the samples with labels = 0\n",
        "    out = clf.predict(point)\n",
        "    if out==0:\n",
        "        plt.scatter(point[0], point[1], s=120, marker='_', linewidths=2, color='blue')\n",
        "    # Plot the samples with labels = 1\n",
        "    else:\n",
        "        plt.scatter(point[0], point[1], s=120, marker='+', linewidths=2, color='blue')\n",
        "plt.show()\n",
        "\n",
        "for i in range(len(y_test)):\n",
        "    print('expectedValue vs prediction:\\t {} | {}'.format(y_test[i], clf.predict(X_test[i])))"
      ],
      "metadata": {
        "colab": {
          "base_uri": "https://localhost:8080/",
          "height": 797
        },
        "id": "qXU288mgNOm9",
        "outputId": "5e949635-1a4a-4f57-9065-575fb5872661"
      },
      "execution_count": null,
      "outputs": [
        {
          "output_type": "display_data",
          "data": {
            "text/plain": [
              "<Figure size 432x288 with 1 Axes>"
            ],
            "image/png": "[encoded data removed]"
          },
          "metadata": {
            "needs_background": "light"
          }
        },
        {
          "output_type": "stream",
          "name": "stdout",
          "text": [
            "expectedValue vs prediction:\t 1.0 | 1.0\n",
            "expectedValue vs prediction:\t 1.0 | 1.0\n",
            "expectedValue vs prediction:\t 0.0 | 0.0\n",
            "expectedValue vs prediction:\t 0.0 | 0.0\n",
            "expectedValue vs prediction:\t 0.0 | 0.0\n",
            "expectedValue vs prediction:\t 1.0 | 1.0\n",
            "expectedValue vs prediction:\t 1.0 | 1.0\n",
            "expectedValue vs prediction:\t 1.0 | 1.0\n",
            "expectedValue vs prediction:\t 0.0 | 0.0\n",
            "expectedValue vs prediction:\t 0.0 | 0.0\n",
            "expectedValue vs prediction:\t 0.0 | 0.0\n",
            "expectedValue vs prediction:\t 0.0 | 0.0\n",
            "expectedValue vs prediction:\t 1.0 | 1.0\n",
            "expectedValue vs prediction:\t 0.0 | 0.0\n",
            "expectedValue vs prediction:\t 1.0 | 1.0\n",
            "expectedValue vs prediction:\t 0.0 | 0.0\n",
            "expectedValue vs prediction:\t 0.0 | 0.0\n",
            "expectedValue vs prediction:\t 0.0 | 0.0\n",
            "expectedValue vs prediction:\t 1.0 | 1.0\n",
            "expectedValue vs prediction:\t 0.0 | 0.0\n",
            "expectedValue vs prediction:\t 0.0 | 0.0\n",
            "expectedValue vs prediction:\t 1.0 | 1.0\n",
            "expectedValue vs prediction:\t 0.0 | 0.0\n",
            "expectedValue vs prediction:\t 0.0 | 0.0\n",
            "expectedValue vs prediction:\t 0.0 | 0.0\n",
            "expectedValue vs prediction:\t 0.0 | 0.0\n",
            "expectedValue vs prediction:\t 0.0 | 0.0\n",
            "expectedValue vs prediction:\t 1.0 | 1.0\n",
            "expectedValue vs prediction:\t 0.0 | 0.0\n",
            "expectedValue vs prediction:\t 0.0 | 0.0\n"
          ]
        }
      ]
    },
    {
      "cell_type": "code",
      "source": [
        "# Test the prediction\n",
        "petal_length = 4.5\n",
        "petal_width = 4.3\n",
        "\n",
        "# 0: Iris-setosa | 1: Iris-versicolor\n",
        "print('Iris-versicolor' if clf.predict([petal_length, petal_width]) else 'Iris-setosa')"
      ],
      "metadata": {
        "id": "cdN_gj_9NYJx",
        "outputId": "60d5bf56-4d02-49a2-ff96-a21807905b98",
        "colab": {
          "base_uri": "https://localhost:8080/"
        }
      },
      "execution_count": null,
      "outputs": [
        {
          "output_type": "stream",
          "name": "stdout",
          "text": [
            "Iris-setosa\n"
          ]
        }
      ]
    }
  ]
}